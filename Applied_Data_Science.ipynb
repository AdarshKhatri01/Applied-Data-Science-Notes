{
  "nbformat": 4,
  "nbformat_minor": 0,
  "metadata": {
    "colab": {
      "provenance": [],
      "authorship_tag": "ABX9TyNMEL95q8IFPlp2j2A7Xwm+",
      "include_colab_link": true
    },
    "kernelspec": {
      "name": "python3",
      "display_name": "Python 3"
    },
    "language_info": {
      "name": "python"
    }
  },
  "cells": [
    {
      "cell_type": "markdown",
      "metadata": {
        "id": "view-in-github",
        "colab_type": "text"
      },
      "source": [
        "<a href=\"https://colab.research.google.com/github/AdarshKhatri01/Applied-Data-Science-Notes/blob/main/Applied_Data_Science.ipynb\" target=\"_parent\"><img src=\"https://colab.research.google.com/assets/colab-badge.svg\" alt=\"Open In Colab\"/></a>"
      ]
    },
    {
      "cell_type": "markdown",
      "source": [
        "**Unit 1: Data Science in Healthcare**\n",
        "\n",
        "### **1. Smart Sensors for Healthcare and Medical Applications**\n",
        "**Hinglish:** Smart sensors aise devices hote hain jo real-time health data collect karte hain jaise heart rate, blood pressure, glucose level, etc. Yeh sensors hospitals, home care aur personal health monitoring ke liye kaafi useful hote hain. **Example:** Diabetic patients ke liye continuous glucose monitoring (CGM) devices kaafi useful hote hain jo unka sugar level continuously monitor karte hain aur alert dete hain agar level normal range se bahar jaye.\n",
        "**English:** Smart sensors are devices that collect real-time health data such as heart rate, blood pressure, glucose levels, etc. They are useful in hospitals, home care, and personal health monitoring. **Example:** Continuous Glucose Monitoring (CGM) devices help diabetic patients by continuously tracking their sugar levels and providing alerts if they go out of range.\n",
        "\n",
        "### **2. Data Collection in Healthcare**\n",
        "Healthcare sector mein accurate aur efficient data collection kaafi zaroori hota hai. Ismein kuch important systems include hote hain:\n",
        "\n",
        "#### **(a) CRM (Customer Relationship Management Systems)**\n",
        "**Hinglish:** CRM ek software system hota hai jo patients ke records, appointments, feedback, aur communication ko manage karta hai. Hospitals aur clinics CRM ka use karte hain taaki patient care better ho sake. **Example:** Ek hospital apne patients ke appointments aur treatment history track karne ke liye CRM software ka use karta hai taaki timely follow-ups diye ja sakein.\n",
        "**English:** CRM is a software system that manages patient records, appointments, feedback, and communication. Hospitals and clinics use CRM to improve patient care. **Example:** A hospital uses CRM software to track patient appointments and treatment history, ensuring timely follow-ups.\n",
        "\n",
        "#### **(b) EHR (Electronic Health Records)**\n",
        "**Hinglish:** EHR ek digital version hoti hai patient ke medical records ki. Isme patient ki medical history, prescriptions, test results, etc., store kiye jate hain jo doctors aur healthcare providers ko easily access milta hai. **Example:** Agar ek patient naye hospital me admit hota hai, toh uski purani medical history EHR ke through lekar naye doctors usko easily dekh sakte hain aur sahi treatment de sakte hain.\n",
        "**English:** EHR is a digital version of a patient’s medical records, including medical history, prescriptions, test results, etc., which can be easily accessed by doctors and healthcare providers. **Example:** If a patient gets admitted to a new hospital, their previous medical history can be accessed through EHR, enabling doctors to provide the right treatment.\n",
        "\n",
        "#### **(c) Mobile Applications**\n",
        "**Hinglish:** Aaj kal bahut saari healthcare mobile apps available hain jo patients ko apni health track karne, doctor se consult karne aur medication reminders provide karti hain. **Example:** Practo aur 1mg jaise apps patients ko doctors se online consult karne aur medicines order karne ka option deti hain.\n",
        "**English:** Many healthcare mobile applications are available today that help patients track their health, consult doctors, and get medication reminders. **Example:** Apps like Practo and 1mg allow patients to consult doctors online and order medicines.\n",
        "\n",
        "### **3. Predictive Methods for Disease/Drug Detection and Prevention**\n",
        "**Hinglish:** Predictive analytics AI aur Machine Learning models ka use karke diseases aur drugs ke effects predict karne me help karti hai. **Example:** AI models ka use karke breast cancer ka early detection ho sakta hai aur timely treatment start kiya ja sakta hai.\n",
        "**English:** Predictive analytics uses AI and Machine Learning models to predict diseases and drug effects. **Example:** AI models can help in early detection of breast cancer, allowing timely treatment to begin.\n",
        "\n",
        "### **4. Descriptive Analytics**\n",
        "**Hinglish:** Descriptive analytics ka kaam healthcare data ko summarize karna hota hai taaki past trends aur patterns samjhe ja sake. Iska use hospitals me patient data analysis aur disease outbreaks monitor karne ke liye hota hai. **Example:** COVID-19 ke time par descriptive analytics ka use cases track karne aur hotspot areas identify karne ke liye kiya gaya tha.\n",
        "**English:** Descriptive analytics summarizes healthcare data to understand past trends and patterns. It is used in hospitals for patient data analysis and monitoring disease outbreaks. **Example:** During COVID-19, descriptive analytics was used to track cases and identify hotspot areas.\n",
        "\n",
        "### **5. Wearable Technology for Diagnosis**\n",
        "**Hinglish:** Wearable devices jaise smartwatches aur fitness bands patients ki real-time health monitoring ke liye use hote hain. Yeh heart rate, oxygen level, steps count, aur sleep patterns track kar sakte hain. **Example:** Apple Watch aur Fitbit jaise devices users ko unki heart health aur fitness track karne me help karte hain aur abnormal heart rhythms detect kar sakte hain.\n",
        "**English:** Wearable devices such as smartwatches and fitness bands are used for real-time health monitoring. They can track heart rate, oxygen levels, step count, and sleep patterns. **Example:** Devices like Apple Watch and Fitbit help users track their heart health and fitness levels, even detecting abnormal heart rhythms.\n",
        "\n",
        "### **6. Telemedicine**\n",
        "**Hinglish:** Telemedicine ek advanced technology hai jo doctors aur patients ko remote consultation ka option deti hai. Patients video calls aur online prescriptions ke through bina hospital visit kiye treatment le sakte hain. **Example:** Rural areas me jahan healthcare facilities limited hain, telemedicine kaafi madadgaar sabit hoti hai kyunki log bina travel kiye specialist doctors se consult kar sakte hain.\n",
        "**English:** Telemedicine is an advanced technology that allows remote consultation between doctors and patients. Patients can receive treatment via video calls and online prescriptions without visiting hospitals. **Example:** In rural areas where healthcare facilities are limited, telemedicine is highly beneficial as people can consult specialist doctors without traveling.\n",
        "\n",
        "---\n",
        "\n"
      ],
      "metadata": {
        "id": "tUZ0SFcDI2Ja"
      }
    }
  ]
}